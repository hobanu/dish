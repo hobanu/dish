{
 "cells": [
  {
   "cell_type": "code",
   "execution_count": null,
   "metadata": {},
   "outputs": [],
   "source": [
    "import keras\n",
    "keras.__version__"
   ]
  },
  {
   "cell_type": "code",
   "execution_count": null,
   "metadata": {},
   "outputs": [],
   "source": [
    "from keras import models\n",
    "from keras import layers\n",
    "from keras import optimizers\n",
    "from keras.applications import VGG16\n",
    "\n",
    "\n",
    "\n",
    "pre_trained_model = VGG16(weights='imagenet',  # 이미지넷의 데이터로 1000개 클래스 분류에 대해 학습된 가중치\n",
    "                          include_top=False,   # VGG16에서 5번째 맥스풀링 이후의 과정은 잘라낸다\n",
    "                          input_shape=(150, 150, 3))\n",
    "                          # vgg16은 224x224 사이즈 이미지를 입력으로 받아 학습된 상태인데\n",
    "                          # 그보다 작은 사이즈도 된다. 혹시나 잘 안되면 224x224에 맞춰보자.\n",
    "\n",
    "\n",
    "\n",
    "model = models.Sequential()  # 아래에 선언하는 것들을 모두 순차적으로 이어가겠다\n",
    "model.add(pre_trained_model) # 사전훈련된 vgg16을 지나면서 2x2 맥스풀링이 5번 일어난다\n",
    "model.add(layers.Flatten())  # 한줄로 편다\n",
    "model.add(layers.Dense(256, activation='relu')) # 댄스층을 지나면서 최종 분류를 위한 가중치를 만들어간다\n",
    "model.add(layers.Dense(128, activation='relu'))\n",
    "model.add(layers.Dense(64, activation='relu'))\n",
    "model.add(layers.Dense(30, activation='softmax')) # softmax : 30개 클래스 확률 총합은 1\n",
    "\n",
    "#***** model.add(layers.Dropout(0.5)) :: 오버피팅이 일어나면 댄스층 사이에 드롭아웃 섞어서 규제를 걸어보자\n",
    "\n",
    "\n",
    "\n",
    "model.compile(optimizer=optimizers.RMSprop(lr=2e-5), # 가장 보편적인 옵티마이저 초안\n",
    "              loss='categorical_crossentropy',       # 다중 클래스 분류\n",
    "              metrics=['accuracy'])                  # 평가기준 : 정확도\n",
    "\n",
    "\n",
    "\n",
    "history = model.fit(trainnnnnn_data_and_lables, # 처리된 데이터중에 훈련용\n",
    "                    epochs=50, # 돌려보고 튀는 구간에서 잘라야 함\n",
    "                    batch_size=64, # 2의 제곱수에 맞춰서 메모리 효율을 기대해본다\n",
    "                    validation_data=(validationnnnnn_data_and_lables) # 처리된 데이터중에 검증용\n",
    "                   )\n"
   ]
  }
 ],
 "metadata": {
  "kernelspec": {
   "display_name": "Python 3",
   "language": "python",
   "name": "python3"
  },
  "language_info": {
   "codemirror_mode": {
    "name": "ipython",
    "version": 3
   },
   "file_extension": ".py",
   "mimetype": "text/x-python",
   "name": "python",
   "nbconvert_exporter": "python",
   "pygments_lexer": "ipython3",
   "version": "3.7.3"
  }
 },
 "nbformat": 4,
 "nbformat_minor": 2
}
